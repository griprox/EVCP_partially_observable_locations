{
 "cells": [
  {
   "cell_type": "code",
   "execution_count": 1,
   "id": "e50f26f9",
   "metadata": {},
   "outputs": [],
   "source": [
    "import os\n",
    "import sys\n",
    "path_to_this_notebook = os.path.abspath('.')\n",
    "path_to_project = path_to_this_notebook[:path_to_this_notebook.find('note')]\n",
    "sys.path.append(path_to_project)\n",
    "\n",
    "from src.save_and_load_tools.save_load_utils import save_grid, save_scenarios, load_grid\n",
    "from src.surrogate_grids._grid_parallel_nodes import create_grid_parallel_nodes\n",
    "from src.surrogate_grids._grid_single_node import create_grid_single_node\n",
    "from src.generate_grid_examples.ieee_16 import generate_IEEE16\n",
    "from src.scenario.scenario_generator import ScenarioGenerator\n",
    "from src.plotting_tools.plot_grid import plot_grid\n",
    "\n",
    "import pandas as pd\n",
    "import pickle\n",
    "import numpy as np\n",
    "\n",
    "%load_ext autoreload\n",
    "%autoreload 2"
   ]
  },
  {
   "cell_type": "code",
   "execution_count": 2,
   "id": "1bd8ba75",
   "metadata": {},
   "outputs": [],
   "source": [
    "meshed = False\n",
    "grid_connected = False\n",
    "\n",
    "v_min, v_max = 300, 400\n",
    "load_p_min, load_p_max = 0, 10000\n",
    "line_i_max = 30\n",
    "line_g = 15\n",
    "gen_p_max = 0\n",
    "gen_p_min = -0\n",
    "\n",
    "grid = generate_IEEE16(meshed, grid_connected,  v_min, v_max,\n",
    "                       gen_p_min, gen_p_max, load_p_max, load_p_min, line_i_max, line_g)\n",
    "# Scenarios params\n",
    "n_scenarios = 6\n",
    "t_start_hr = 0\n",
    "t_end_hr = 24\n",
    "ptu_size_minutes = 30\n",
    "ptu_size_hr = ptu_size_minutes / 60\n",
    "timesteps_hr = np.arange(0, t_end_hr + ptu_size_hr, ptu_size_hr)\n",
    "\n",
    "charging_time_mean_bounds = 3.75, 3.76\n",
    "charging_time_std_bounds = 1, 1.01\n",
    "per_hour_demand_mean_bounds = 8500, 8501\n",
    "per_hour_demand_std_bounds = 900, 901\n",
    "std_price_factor=1e6\n",
    "\n",
    "\n",
    "path_sessions = path_to_project + 'data/sessions_example.csv'\n",
    "path_prices = path_to_project + 'data/power_price_example.csv'\n",
    "\n",
    "scenario_generator = ScenarioGenerator(t_start_hr, t_end_hr, ptu_size_minutes, \n",
    "                                       charging_time_mean_bounds, charging_time_std_bounds, \n",
    "                                       per_hour_demand_mean_bounds, per_hour_demand_std_bounds,\n",
    "                                       std_price_factor,  path_sessions, path_prices)"
   ]
  },
  {
   "cell_type": "code",
   "execution_count": 3,
   "id": "c6fcc8ae",
   "metadata": {},
   "outputs": [
    {
     "name": "stdout",
     "output_type": "stream",
     "text": [
      "/home/gr1/Projects/EVCP_partially_observable_locations//experiments/IEEE16/\n",
      "['IEEE16meshed_con']\n"
     ]
    }
   ],
   "source": [
    "overwrite_grid = False\n",
    "overwrite_scenarios = False\n",
    "overwrite_plots = False\n",
    "\n",
    "experiment_folder = 'IEEE16'\n",
    "path_to_experiments = path_to_project + '/experiments/%s/' % experiment_folder\n",
    "if not os.path.isdir(path_to_experiments):\n",
    "    os.makedirs(path_to_experiments)\n",
    "print(path_to_experiments)\n",
    "print(os.listdir(path_to_experiments))"
   ]
  },
  {
   "cell_type": "code",
   "execution_count": 4,
   "id": "b6d05f0b",
   "metadata": {},
   "outputs": [
    {
     "name": "stdout",
     "output_type": "stream",
     "text": [
      "Name:  IEEE16meshed_con\n",
      "Ps:  [-14444]\n",
      "Is:  [10. 18. 25. 32. 40.]\n",
      "N grids:  5\n"
     ]
    }
   ],
   "source": [
    "# Specify parameters for the grids you want to create \n",
    "\n",
    "meshed = True\n",
    "grid_connected = True\n",
    "\n",
    "\n",
    "meshed_str = 'meshed' if meshed else 'radial'\n",
    "external_grid_str = 'con' if grid_connected else 'disc'\n",
    "experiment_name = 'IEEE16%s_%s' % (meshed_str, external_grid_str)\n",
    "print('Name: ', experiment_name)\n",
    "grid = generate_IEEE16(meshed, grid_connected, v_min, v_max, gen_p_min, gen_p_max,\n",
    "                       load_p_max, load_p_min, line_i_max, line_g)\n",
    "\n",
    "n_gens = grid.n_gens\n",
    "n_loads = grid.n_loads\n",
    "line_i_max_array = np.linspace(10, 40, 5)\n",
    "gen_p_factors_array = np.linspace(1, 1, 1)\n",
    "gen_p_min_array = np.array([-int(f * n_loads * load_p_max / n_gens) for f in gen_p_factors_array])\n",
    "print('Ps: ', gen_p_min_array.round())\n",
    "print('Is: ', line_i_max_array.round())\n",
    "print('N grids: ', len(line_i_max_array) * len(gen_p_factors_array))"
   ]
  },
  {
   "cell_type": "code",
   "execution_count": 5,
   "id": "8ae7294f",
   "metadata": {},
   "outputs": [
    {
     "name": "stdout",
     "output_type": "stream",
     "text": [
      "Grid:  IEEE16meshed_con_g=15_i-line-max=10_p-gen-min=-14444\n",
      "Overwrote plots!\n",
      "Saved grid!\n",
      "Saved scenarios!\n",
      "\n",
      "Grid:  IEEE16meshed_con_g=15_i-line-max=17_p-gen-min=-14444\n",
      "Created folder\n",
      "Overwrote plots!\n",
      "Saved grid!\n",
      "Saved scenarios!\n",
      "\n",
      "Grid:  IEEE16meshed_con_g=15_i-line-max=25_p-gen-min=-14444\n",
      "Created folder\n",
      "Overwrote plots!\n",
      "Saved grid!\n",
      "Saved scenarios!\n",
      "\n",
      "Grid:  IEEE16meshed_con_g=15_i-line-max=32_p-gen-min=-14444\n",
      "Created folder\n",
      "Overwrote plots!\n",
      "Saved grid!\n",
      "Saved scenarios!\n",
      "\n",
      "Grid:  IEEE16meshed_con_g=15_i-line-max=40_p-gen-min=-14444\n",
      "Created folder\n",
      "Overwrote plots!\n",
      "Saved grid!\n",
      "Saved scenarios!\n",
      "\n"
     ]
    }
   ],
   "source": [
    "# Create and save the grids\n",
    "\n",
    "for gen_p_min in gen_p_min_array:\n",
    "    for line_i_max in line_i_max_array:\n",
    "        grid = generate_IEEE16(meshed, grid_connected, v_min, v_max, gen_p_min, gen_p_max,\n",
    "                               load_p_max, load_p_min, line_i_max, line_g)\n",
    "        grid_parallel, _ = create_grid_parallel_nodes(grid)\n",
    "        grid_single_cable, _ = create_grid_single_node(grid)\n",
    "        grid_name = grid.name\n",
    "        print('Grid: ', grid_name)\n",
    "        path_to_grid_folder = path_to_experiments + '/%s/%s/' % (experiment_name, grid_name)\n",
    "            \n",
    "        if not os.path.isdir(path_to_grid_folder):\n",
    "            print('Created folder')\n",
    "            os.makedirs(path_to_grid_folder)\n",
    "    \n",
    "        grid_already_exists = 'grid.pickle' in os.listdir(path_to_grid_folder)\n",
    "        \n",
    "        if (not grid_already_exists )or overwrite_plots:\n",
    "            plot_grid(grid, grid_name, bbox=(500, 500), margin=50, \n",
    "                      title_size=12, save=True, path_to_figures=path_to_grid_folder)\n",
    "            plot_grid(grid_parallel, grid_name + '_parallel', bbox=(500, 500), margin=50, \n",
    "                      title_size=12, save=True, path_to_figures=path_to_grid_folder)\n",
    "            plot_grid(grid_single_cable, grid_name + '_single-cable', bbox=(500, 500), margin=50, \n",
    "                      title_size=12, save=True, path_to_figures=path_to_grid_folder)\n",
    "            print('Overwrote plots!')\n",
    "            \n",
    "        if not grid_already_exists:\n",
    "            save_grid(grid, experiment_name, grid_name, path_to_experiments)\n",
    "            print('Saved grid!')\n",
    "            \n",
    "        elif (grid_already_exists and overwrite_grid):\n",
    "            save_grid(grid, experiment_name, grid_name, path_to_experiments)\n",
    "            print('Overwrote existing grid!')\n",
    "        else:\n",
    "            grid = load_grid(experiment_name, grid_name, path_to_experiments)\n",
    "            print('Grid found, skipping!')\n",
    "\n",
    "        scenarios_already_exist = ('scenarios_t=%d.pickle' % (ptu_size_minutes) in os.listdir(path_to_grid_folder))\n",
    "        scenarios = scenario_generator.generate(grid.load_inds, n_scenarios, 0, [])\n",
    "        if not scenarios_already_exist:\n",
    "            save_scenarios(scenarios, scenario_generator, experiment_name, grid_name, path_to_experiments)\n",
    "            print('Saved scenarios!')\n",
    "        elif (scenarios_already_exist and overwrite_scenarios):\n",
    "            save_scenarios(scenarios, scenario_generator, experiment_name, grid_name, path_to_experiments)\n",
    "            print('Overwrote existing scenarios!')\n",
    "        else:\n",
    "            print('Scenarios found, skipping!')\n",
    "\n",
    "        print()"
   ]
  },
  {
   "cell_type": "code",
   "execution_count": null,
   "id": "73584b6d",
   "metadata": {},
   "outputs": [],
   "source": []
  }
 ],
 "metadata": {
  "kernelspec": {
   "display_name": "Python [conda env:evcp] *",
   "language": "python",
   "name": "conda-env-evcp-py"
  },
  "language_info": {
   "codemirror_mode": {
    "name": "ipython",
    "version": 3
   },
   "file_extension": ".py",
   "mimetype": "text/x-python",
   "name": "python",
   "nbconvert_exporter": "python",
   "pygments_lexer": "ipython3",
   "version": "3.8.12"
  }
 },
 "nbformat": 4,
 "nbformat_minor": 5
}
