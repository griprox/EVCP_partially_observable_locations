{
 "cells": [
  {
   "cell_type": "code",
   "execution_count": 1,
   "id": "3258c50b",
   "metadata": {
    "scrolled": true
   },
   "outputs": [],
   "source": [
    "import os\n",
    "import sys\n",
    "path_to_this_notebook = os.path.abspath('.')\n",
    "path_to_project = path_to_this_notebook[:path_to_this_notebook.find('note')]\n",
    "sys.path.append(path_to_project)\n",
    "\n",
    "from src.planners.socp.socp_planner import SOCPPlanner\n",
    "from src.save_and_load_tools.save_load_utils import *\n",
    "from src.simulation_tools.simulate import simulate\n",
    "from src.grid.grid_env import GridEnv\n",
    "import time\n",
    "from collections import defaultdict\n",
    "import matplotlib.pyplot as plt\n",
    "import numpy as np\n",
    "import gc\n",
    "\n",
    "from IPython.display import HTML, Javascript, display\n",
    "\n",
    "def restart_kernel_and_run_all_cells():\n",
    "    display(HTML(\n",
    "        '''\n",
    "            <script>\n",
    "                code_show = false;\n",
    "                function restart_run_all(){\n",
    "                    IPython.notebook.kernel.restart();\n",
    "                    setTimeout(function(){\n",
    "                        IPython.notebook.execute_all_cells();\n",
    "                    }, 10000)\n",
    "                }\n",
    "                function code_toggle() {\n",
    "                    if (code_show) {\n",
    "                        $('div.input').hide(200);\n",
    "                    } else {\n",
    "                        $('div.input').show(200);\n",
    "                    }\n",
    "                    code_show = !code_show\n",
    "                }\n",
    "                code_toggle() \n",
    "                restart_run_all()\n",
    "            </script>\n",
    "\n",
    "        '''\n",
    "    ))\n",
    "\n",
    "%matplotlib inline"
   ]
  },
  {
   "cell_type": "code",
   "execution_count": 2,
   "id": "89f9aaa9",
   "metadata": {},
   "outputs": [],
   "source": [
    "# Settings\n",
    "\n",
    "n_scenarios = 999\n",
    "shuffle = False\n",
    "overwrite_existing = False\n"
   ]
  },
  {
   "cell_type": "code",
   "execution_count": 3,
   "id": "32612ea7",
   "metadata": {},
   "outputs": [],
   "source": [
    "# Planners with different acess to EV locations\n",
    "mosek_params = {'basisRelTolS': 1e-9,\n",
    "                'basisTolS': 1e-9, \n",
    "                'intpntCoTolDfeas': 1e-9}\n",
    "obj_factors = [5e5, 1e3, 1e1]\n",
    "\n",
    "planner_full = SOCPPlanner(observe_ev_locations='full', future_model='known-future', \n",
    "                           n_future_samples=5, grid_transformation=None,\n",
    "                           normalize=True,  obj_factors=obj_factors, tee=False, **mosek_params)\n",
    "planner_locations_present = SOCPPlanner(observe_ev_locations='present', future_model='known-future', \n",
    "                                        n_future_samples=5, grid_transformation=None,\n",
    "                                        normalize=True,  obj_factors=obj_factors, tee=False, **mosek_params)\n",
    "planner_locations_past = SOCPPlanner(observe_ev_locations='past', future_model='known-future', \n",
    "                                     n_future_samples=5, grid_transformation=None,\n",
    "                                     normalize=True,  obj_factors=obj_factors, tee=False, **mosek_params)\n",
    "planner_locations_blind = SOCPPlanner(observe_ev_locations='blind', future_model='known-future', \n",
    "                                        n_future_samples=5, grid_transformation=None,\n",
    "                                        normalize=True,  obj_factors=obj_factors, tee=False, **mosek_params)\n",
    "\n",
    "# Planners with different grid transformations\n",
    "\n",
    "planner_single_node = SOCPPlanner(observe_ev_locations='full', future_model='known-future', \n",
    "                                  n_future_samples=5, grid_transformation='single-node',\n",
    "                                  normalize=True,  obj_factors=obj_factors, tee=False, \n",
    "                                  use_weird_sur_grid=False, **mosek_params)\n",
    "planner_parallel = SOCPPlanner(observe_ev_locations='full', future_model='known-future', \n",
    "                               n_future_samples=5, grid_transformation='parallel',\n",
    "                               normalize=True,  obj_factors=obj_factors, tee=False, \n",
    "                               use_weird_sur_grid=False, **mosek_params)\n",
    "\n",
    "planner_single_node_uni = SOCPPlanner(observe_ev_locations='full', future_model='known-future', \n",
    "                                  n_future_samples=5, grid_transformation='single-node',\n",
    "                                  normalize=True,  obj_factors=obj_factors, tee=False, \n",
    "                                  use_weird_sur_grid=False, unify_grid=True, **mosek_params)\n",
    "planner_parallel_uni = SOCPPlanner(observe_ev_locations='full', future_model='known-future', \n",
    "                                   n_future_samples=5, grid_transformation='parallel',\n",
    "                                   normalize=True,  obj_factors=obj_factors, tee=False, \n",
    "                                   use_weird_sur_grid=False,unify_grid=True, **mosek_params)\n",
    "\n",
    "planner_single_node_weird = SOCPPlanner(observe_ev_locations='full', future_model='known-future', \n",
    "                                        n_future_samples=5, grid_transformation='single-node',\n",
    "                                        normalize=True,  obj_factors=obj_factors, tee=False,\n",
    "                                        use_weird_sur_grid=True, **mosek_params)\n",
    "\n",
    "planner_parallel_weird = SOCPPlanner(observe_ev_locations='full', future_model='known-future', \n",
    "                                     n_future_samples=5, grid_transformation='parallel',\n",
    "                                     normalize=True,  obj_factors=obj_factors, tee=False,\n",
    "                                     use_weird_sur_grid=True, **mosek_params)\n",
    "\n",
    "# Planners with different future models\n",
    "planner_no_future = SOCPPlanner(observe_ev_locations='full', future_model='no-future', \n",
    "                                n_future_samples=5, grid_transformation=None,\n",
    "                                normalize=True,  obj_factors=obj_factors, tee=False, **mosek_params)\n",
    "planner_ts_1 = SOCPPlanner(observe_ev_locations='full', future_model='sample', \n",
    "                                n_future_samples=1, grid_transformation=None,\n",
    "                                normalize=True,  obj_factors=obj_factors, tee=False, **mosek_params)\n",
    "planner_ts_5 = SOCPPlanner(observe_ev_locations='full', future_model='sample', \n",
    "                                n_future_samples=5, grid_transformation=None,\n",
    "                                normalize=True,  obj_factors=obj_factors, tee=False, **mosek_params)\n"
   ]
  },
  {
   "cell_type": "code",
   "execution_count": 4,
   "id": "d6277ddb",
   "metadata": {},
   "outputs": [
    {
     "name": "stdout",
     "output_type": "stream",
     "text": [
      "SOCPPlanner_normalize=True_future=known-future_ev-locations=full_None\n",
      "SOCPPlanner_normalize=True_future=known-future_ev-locations=blind_None\n",
      "SOCPPlanner_normalize=True_future=known-future_ev-locations=full_single-node\n",
      "SOCPPlanner_normalize=True_future=known-future_ev-locations=full_parallel\n"
     ]
    }
   ],
   "source": [
    "planners = [\\\n",
    "            planner_full,\n",
    "            #planner_locations_present,\n",
    "            #planner_locations_past,\n",
    "            planner_locations_blind,\n",
    "            planner_single_node, \n",
    "            #planner_single_node_uni,\n",
    "            #planner_single_node_weird,\n",
    "            planner_parallel,\n",
    "            #planner_parallel_uni,\n",
    "            #planner_parallel_weird,\n",
    "            #planner_no_future,\n",
    "            #planner_ts_1,\n",
    "            #planner_ts_5\n",
    "           ]\n",
    "\n",
    "for p in planners:\n",
    "    print(p.name)"
   ]
  },
  {
   "cell_type": "code",
   "execution_count": 5,
   "id": "5ac98ca3",
   "metadata": {
    "scrolled": true
   },
   "outputs": [
    {
     "name": "stdout",
     "output_type": "stream",
     "text": [
      "/home/gr1/Projects/EVCP_partially_observable_locations//experiments/IEEE16/\n",
      "['IEEE16meshed_con']\n"
     ]
    }
   ],
   "source": [
    "experiment_folder = 'IEEE16'\n",
    "ptu_int = 30\n",
    "\n",
    "path_to_experiments = path_to_project + '/experiments/%s/' % experiment_folder\n",
    "print(path_to_experiments)\n",
    "print(os.listdir(path_to_experiments))\n"
   ]
  },
  {
   "cell_type": "code",
   "execution_count": 6,
   "id": "47eb6b3c",
   "metadata": {},
   "outputs": [
    {
     "data": {
      "text/plain": [
       "['IEEE16meshed_con']"
      ]
     },
     "execution_count": 6,
     "metadata": {},
     "output_type": "execute_result"
    }
   ],
   "source": [
    "experiments = os.listdir(path_to_experiments)\n",
    "experiments"
   ]
  },
  {
   "cell_type": "code",
   "execution_count": null,
   "id": "7064eff1",
   "metadata": {
    "scrolled": true
   },
   "outputs": [
    {
     "name": "stdout",
     "output_type": "stream",
     "text": [
      "######################### IEEE16meshed_con #########################\n",
      "Grid name: IEEE16meshed_con_g=15_i-line-max=10_p-gen-min=-14444\n",
      "SOCPPlanner_normalize=True_future=known-future_ev-locations=full_None\n",
      "Loaded results dict\n",
      "Free scenarios []\n",
      "SOCPPlanner_normalize=True_future=known-future_ev-locations=blind_None\n",
      "Loaded results dict\n",
      "Free scenarios []\n",
      "SOCPPlanner_normalize=True_future=known-future_ev-locations=full_single-node\n",
      "Loaded results dict\n",
      "Free scenarios []\n",
      "SOCPPlanner_normalize=True_future=known-future_ev-locations=full_parallel\n",
      "Loaded results dict\n",
      "Free scenarios [3, 4, 5]\n",
      "Running scenario 3\n",
      "Running scenario 4\n"
     ]
    }
   ],
   "source": [
    "restart_each = 8 # this paramters forces the notebooks to be restarted once in a while, to avoid memory issues\n",
    "runs = 0\n",
    "\n",
    "for experiment_folder in [experiment_folder,]:\n",
    "    path_to_experiments = path_to_project + '/experiments/%s/' % experiment_folder\n",
    "    experiments = os.listdir(path_to_experiments)\n",
    "    for experiment_name in experiments:\n",
    "        print('#' *25, experiment_name, '#' * 25)\n",
    "        grid_names_list = os.listdir(path_to_experiments + '/%s' % experiment_name)\n",
    "        for grid_name in grid_names_list:\n",
    "            print('Grid name:', grid_name)\n",
    "            scenarios, scenario_generator = load_scenarios(experiment_name, grid_name, path_to_experiments, ptu_int)\n",
    "            grid = load_grid(experiment_name, grid_name, path_to_experiments)\n",
    "            for planner in planners:\n",
    "                #planner.debugging = True\n",
    "                #planner.tee = True\n",
    "                print(planner.name)\n",
    "                results_dict = load_results_dict(planner.name, experiment_name, grid_name, path_to_experiments)\n",
    "                free_sc_inds = [ind for ind in range(len(scenarios)) if overwrite_existing or \n",
    "                                ind not in results_dict.keys()]\n",
    "                if shuffle:\n",
    "                    np.random.shuffle(free_sc_inds)\n",
    "                print('Free scenarios', free_sc_inds)\n",
    "                for sc_ind in free_sc_inds[:n_scenarios]:\n",
    "                    if (runs + 1) % restart_each == 0:\n",
    "                        print('Restarting kernel in 2 seconds')\n",
    "                        time.sleep(2)\n",
    "                        restart_kernel_and_run_all_cells()\n",
    "                    print('Running scenario', sc_ind)\n",
    "                    scenario = scenarios[sc_ind]\n",
    "                    env = GridEnv(grid, scenario, scenario_generator)\n",
    "                    result = simulate(env, planner, tee=False)\n",
    "                    runs += 1\n",
    "                    results_dict[sc_ind] = result\n",
    "                    save_results_dict(results_dict, planner.name, experiment_name, grid_name, path_to_experiments)\n",
    "            print()\n",
    "            gc.collect()"
   ]
  },
  {
   "cell_type": "code",
   "execution_count": null,
   "id": "e80af52a",
   "metadata": {},
   "outputs": [],
   "source": [
    "vcv"
   ]
  },
  {
   "cell_type": "code",
   "execution_count": null,
   "id": "bf1b9903",
   "metadata": {},
   "outputs": [],
   "source": []
  }
 ],
 "metadata": {
  "kernelspec": {
   "display_name": "Python 3 (ipykernel)",
   "language": "python",
   "name": "python3"
  },
  "language_info": {
   "codemirror_mode": {
    "name": "ipython",
    "version": 3
   },
   "file_extension": ".py",
   "mimetype": "text/x-python",
   "name": "python",
   "nbconvert_exporter": "python",
   "pygments_lexer": "ipython3",
   "version": "3.8.12"
  }
 },
 "nbformat": 4,
 "nbformat_minor": 5
}
