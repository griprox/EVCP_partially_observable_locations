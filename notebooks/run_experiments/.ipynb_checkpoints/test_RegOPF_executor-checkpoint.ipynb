{
 "cells": [
  {
   "cell_type": "code",
   "execution_count": 283,
   "id": "dress-store",
   "metadata": {},
   "outputs": [],
   "source": [
    "import os\n",
    "import sys\n",
    "path_to_this_notebook = os.path.abspath('.')\n",
    "path_to_project = path_to_this_notebook[:path_to_this_notebook.find('note')]\n",
    "sys.path.append(path_to_project)\n",
    "\n",
    "from src.utils.save_load_utils import *\n",
    "import numpy as np\n"
   ]
  },
  {
   "cell_type": "code",
   "execution_count": 284,
   "id": "protecting-alabama",
   "metadata": {},
   "outputs": [
    {
     "data": {
      "text/plain": [
       "'g=15_p-gen-min=-32000_i-line-max=40'"
      ]
     },
     "execution_count": 284,
     "metadata": {},
     "output_type": "execute_result"
    }
   ],
   "source": [
    "base_name = 'TSCGrid[2, 4, 6, 8]'\n",
    "base_name = 'CircleGrid10loads'\n",
    "spec_names = os.listdir(path_to_project + '/experiments/%s/' % base_name)\n",
    "\n",
    "gen_regressors_dict_name = 'gen_regressors_dict_unlimitted'\n",
    "current_regressors_dict_name = 'current_regressors_dict'\n",
    "spec_name = spec_names[0]\n",
    "spec_name"
   ]
  },
  {
   "cell_type": "code",
   "execution_count": 285,
   "id": "aerial-hardware",
   "metadata": {},
   "outputs": [],
   "source": [
    "grid = load_grid(base_name, spec_name, path_to_project)\n",
    "gen_regressors_dict = load_regressors_dict(base_name, spec_name, gen_regressors_dict_name, path_to_project)\n",
    "current_regressors_dict = load_regressors_dict(base_name, spec_name, current_regressors_dict_name, path_to_project)"
   ]
  },
  {
   "cell_type": "code",
   "execution_count": 294,
   "id": "experimental-magazine",
   "metadata": {},
   "outputs": [
    {
     "data": {
      "text/plain": [
       "(array([   0., 7819., 2409., 3869., 4881., 4039., 4429.,  278., 9079.,\n",
       "        9100., 1021.]),\n",
       " array([-inf,   0.,   0.,   0.,   0.,   0.,   0.,   0.,   0.,   0.,   0.]))"
      ]
     },
     "execution_count": 294,
     "metadata": {},
     "output_type": "execute_result"
    }
   ],
   "source": [
    "cost = np.ones(grid.n_nodes)\n",
    "cost[grid.gen_inds] = 2\n",
    "p_demand_min = np.zeros(grid.n_nodes)\n",
    "p_demand_min[grid.gen_inds] = -np.inf\n",
    "p_demand_max = np.zeros(grid.n_nodes)\n",
    "p_demand_max[grid.load_inds] = np.inf\n",
    "\n",
    "p_demand_max[grid.load_inds] = np.random.uniform(0, 10000, size=grid.n_loads)\n",
    "grid.update_demand_and_price(p_demand_min, p_demand_max, 1 * cost)\n",
    "\n",
    "p_demand_max.round(), p_demand_min.round(),"
   ]
  },
  {
   "cell_type": "code",
   "execution_count": 295,
   "id": "bearing-beach",
   "metadata": {
    "scrolled": true
   },
   "outputs": [
    {
     "name": "stdout",
     "output_type": "stream",
     "text": [
      "[1, 2, 3, 4, 5, 6, 7, 8, 9, 10]\n",
      "Problem\n",
      "  Name                   : reg_OPF         \n",
      "  Objective sense        : max             \n",
      "  Type                   : CONIC (conic optimization problem)\n",
      "  Constraints            : 24              \n",
      "  Cones                  : 1               \n",
      "  Scalar variables       : 69              \n",
      "  Matrix variables       : 0               \n",
      "  Integer variables      : 0               \n",
      "\n",
      "Optimizer started.\n",
      "Presolve started.\n",
      "Linear dependency checker started.\n",
      "Linear dependency checker terminated.\n",
      "Eliminator started.\n",
      "Freed constraints in eliminator : 0\n",
      "Eliminator terminated.\n",
      "Eliminator - tries                  : 1                 time                   : 0.00            \n",
      "Lin. dep.  - tries                  : 1                 time                   : 0.00            \n",
      "Lin. dep.  - number                 : 0               \n",
      "Presolve terminated. Time: 0.00    \n",
      "Problem\n",
      "  Name                   : reg_OPF         \n",
      "  Objective sense        : max             \n",
      "  Type                   : CONIC (conic optimization problem)\n",
      "  Constraints            : 24              \n",
      "  Cones                  : 1               \n",
      "  Scalar variables       : 69              \n",
      "  Matrix variables       : 0               \n",
      "  Integer variables      : 0               \n",
      "\n",
      "Optimizer  - threads                : 8               \n",
      "Optimizer  - solved problem         : the primal      \n",
      "Optimizer  - Constraints            : 10\n",
      "Optimizer  - Cones                  : 1\n",
      "Optimizer  - Scalar variables       : 22                conic                  : 12              \n",
      "Optimizer  - Semi-definite variables: 0                 scalarized             : 0               \n",
      "Factor     - setup time             : 0.00              dense det. time        : 0.00            \n",
      "Factor     - ML order time          : 0.00              GP order time          : 0.00            \n",
      "Factor     - nonzeros before factor : 55                after factor           : 55              \n",
      "Factor     - dense dim.             : 0                 flops                  : 1.18e+03        \n",
      "ITE PFEAS    DFEAS    GFEAS    PRSTATUS   POBJ              DOBJ              MU       TIME  \n",
      "0   9.4e+01  8.2e+04  4.5e+01  0.00e+00   -6.400000000e+04  -6.399646447e+04  1.0e+02  0.00  \n",
      "1   3.3e+01  2.9e+04  2.6e+01  -9.79e-01  -6.272930873e+04  -6.272761232e+04  3.5e+01  0.01  \n",
      "2   1.4e+01  1.2e+04  1.7e+01  -9.46e-01  -6.051666144e+04  -6.051829763e+04  1.5e+01  0.01  \n",
      "3   1.9e+00  1.7e+03  4.7e+00  -8.58e-01  -4.044334908e+04  -4.046643256e+04  2.0e+00  0.01  \n",
      "4   2.1e-01  1.8e+02  4.7e-01  -1.89e-01  -9.139977573e+03  -9.161839228e+03  2.2e-01  0.01  \n",
      "5   6.7e-03  5.8e+00  2.8e-03  7.85e-01   -3.247574801e+02  -3.255144150e+02  7.1e-03  0.01  \n",
      "6   2.9e-04  2.5e-01  2.5e-05  1.02e+00   -1.376150583e+01  -1.379355898e+01  3.0e-04  0.01  \n",
      "7   4.4e-05  3.8e-02  1.5e-06  1.00e+00   -2.105261514e+00  -2.110030918e+00  4.7e-05  0.01  \n",
      "8   2.0e-06  1.7e-03  1.4e-08  1.00e+00   -9.495725980e-02  -9.516214749e-02  2.1e-06  0.01  \n",
      "9   1.5e-08  1.3e-05  8.8e-12  1.00e+00   -6.990456604e-04  -7.005518855e-04  1.5e-08  0.01  \n",
      "10  1.5e-11  1.3e-08  3.1e-16  1.00e+00   -7.267444744e-07  -7.283088053e-07  1.6e-11  0.01  \n",
      "11  3.6e-12  2.8e-08  3.2e-20  1.00e+00   -1.746229827e-10  -1.746229827e-10  3.7e-15  0.01  \n",
      "12  1.3e-12  2.4e-08  2.6e-20  1.00e+00   -1.455191523e-10  -1.455191523e-10  3.3e-15  0.01  \n",
      "13  8.7e-13  2.4e-08  2.6e-20  1.00e+00   -1.600710675e-10  -1.600710675e-10  3.2e-15  0.01  \n",
      "14  8.2e-13  2.4e-08  2.6e-20  1.00e+00   -1.455191523e-10  -1.455191523e-10  3.2e-15  0.01  \n",
      "15  8.2e-13  2.4e-08  2.6e-20  1.00e+00   -1.455191523e-10  -1.455191523e-10  3.2e-15  0.02  \n",
      "16  5.6e-14  1.3e-08  1.0e-20  1.00e+00   -7.275957614e-11  -7.275957614e-11  1.7e-15  0.02  \n",
      "17  5.6e-14  1.3e-08  1.0e-20  1.00e+00   -7.275957614e-11  -7.275957614e-11  1.7e-15  0.02  \n",
      "18  5.6e-14  1.3e-08  1.0e-20  1.00e+00   -7.275957614e-11  -7.275957614e-11  1.7e-15  0.02  \n",
      "Optimizer terminated. Time: 0.02    \n",
      "\n",
      "\n",
      "Interior-point solution summary\n",
      "  Problem status  : UNKNOWN\n",
      "  Solution status : UNKNOWN\n",
      "  Primal.  obj: -7.3338036453e-11   nrm: 1e+03    Viol.  con: 4e-11    var: 3e-13    cones: 0e+00  \n",
      "  Dual.    obj: 4.0398490075e-13    nrm: 2e+00    Viol.  con: 0e+00    var: 9e-08    cones: 0e+00  \n",
      "Gen:  0\n",
      "From model: -3.637978807091713e-11\n",
      "Should be 5.788990201305602e-13\n",
      "1.1918447430668e-31\n"
     ]
    }
   ],
   "source": [
    "    from mosek.fusion import *\n",
    "    \n",
    "    # Derive bounds for the variables\n",
    "    model = Model('reg_OPF')\n",
    "    norm_factor = 1   \n",
    "    p_min_arr = np.array([max(n.p_min, n.p_demand_min) for n in grid.nodes], dtype='double') / norm_factor ** 2\n",
    "    p_max_arr = np.array([min(n.p_max, n.p_demand_max) for n in grid.nodes], dtype='double') / norm_factor ** 2\n",
    "    '''p_min_arr = np.array([max(p_sol-1, n.p_min) for n, p_sol in zip(grid.nodes, sol)],\n",
    "                         dtype='double') / norm_factor ** 2\n",
    "    p_max_arr = np.array([min(p_sol+1, n.p_max) for n, p_sol in zip(grid.nodes, sol)], \n",
    "                         dtype='double') / norm_factor ** 2\n",
    "    p_min_arr[0] += 500\n",
    "    '''\n",
    "    v_min_arr = np.array([n.v_min for n in grid.nodes], dtype='double') / norm_factor\n",
    "    v_max_arr = np.array([n.v_max for n in grid.nodes], dtype='double') / norm_factor\n",
    "    i_min_arr = np.array([n.i_min for n in grid.nodes], dtype='double') / norm_factor\n",
    "    i_max_arr = np.array([n.i_max for n in grid.nodes], dtype='double') / norm_factor\n",
    "    i_lines_min_arr = np.array([l.i_min for l in grid.lines], dtype='double') / norm_factor\n",
    "    i_lines_max_arr = np.array([l.i_max for l in grid.lines], dtype='double') / norm_factor\n",
    "\n",
    "    # Create variables\n",
    "    p_nodes_var = model.variable('P_nodes', grid.n_nodes, Domain.inRange(p_min_arr, p_max_arr))\n",
    "    p_regions_var = model.variable('p_regions', len(grid.loads_regions), Domain.unbounded())\n",
    "    #t = model.variable('t', grid.n_gens, Domain.inRange(np.zeros(grid.n_gens), t_max))\n",
    "    t = model.variable('t', grid.n_gens, Domain.greaterThan(0.))\n",
    "    v_nodes_var = model.variable('V_nodes', grid.n_nodes, Domain.inRange(v_min_arr, v_max_arr))\n",
    "    i_nodes_var = model.variable('I_nodes', grid.n_nodes, Domain.inRange(i_min_arr, i_max_arr))\n",
    "    i_lines_var = model.variable('I_lines', grid.n_lines, Domain.inRange(i_lines_min_arr, i_lines_max_arr))\n",
    "    \n",
    "    \n",
    "    utility_coefs = np.array([l.utility_coef for l in grid.nodes])\n",
    "\n",
    "    # Cone constraint\n",
    "    for gen_ind_raw, gen_ind in enumerate(grid.gen_inds):\n",
    "        A, c, r = gen_regressors_dict[gen_ind]\n",
    "        other_regions_inds = [r_ind for r_ind,r in enumerate(grid.loads_regions) \n",
    "                              if r != [gen_ind]]\n",
    "        print(other_regions_inds)\n",
    "        p_other_regions = p_regions_var.pick(other_regions_inds)\n",
    "        Ax = Expr.mul(A.T * norm_factor, p_other_regions)\n",
    "        cx = Expr.dot(c, p_other_regions)\n",
    "        gen_prod_abs = (Expr.add(Expr.add(t.index(gen_ind_raw), cx), r / norm_factor ** 2))\n",
    "        #model.constraint(gen_prod_abs, Domain.lessThan(-p_min_arr[gen_ind]))\n",
    "        model.constraint(Expr.add(gen_prod_abs, p_nodes_var.index(gen_ind)), Domain.equalsTo(0.))\n",
    "        model.constraint(Expr.vstack([t.index(gen_ind_raw), Expr.constTerm(1. / 2), Ax]),\n",
    "                         Domain.inRotatedQCone(A.shape[0] + 2))\n",
    "        \n",
    "    for r_ind, r in enumerate(grid.loads_regions):\n",
    "        model.constraint(Expr.sub(Expr.add([p_nodes_var.index(n_ind) for n_ind in r]), \n",
    "                                 p_regions_var.index(r_ind)), Domain.equalsTo(0.))\n",
    "        pass\n",
    "\n",
    "    # KCL and nodal current\n",
    "    for n1_ind in range(grid.n_nodes):\n",
    "        i_from_node = Expr.dot(grid.Y[n1_ind], v_nodes_var)\n",
    "        #model.constraint(Expr.add(i_nodes_var.index(n1_ind), i_from_node), Domain.equalsTo(0.))\n",
    "\n",
    "    # Line currents and Ohm's Law\n",
    "    for line_ind, line in enumerate(grid.lines):\n",
    "        line = grid.lines[line_ind]\n",
    "        c, r = current_regressors_dict[line_ind]\n",
    "        i_line = Expr.add(Expr.dot(c * norm_factor, p_regions_var), r / norm_factor)\n",
    "        v_diff = Expr.sub(v_nodes_var.index(grid.nodes.index(line.node_from)),\n",
    "                          v_nodes_var.index(grid.nodes.index(line.node_to)))\n",
    "        #model.constraint(Expr.sub(i_lines_var.index(line_ind), i_line), Domain.equalsTo(0.))\n",
    "        #model.constraint(Expr.sub(Expr.mul(v_diff, line.g), i_line), Domain.equalsTo(0.))\n",
    "\n",
    "    total_utility = Expr.dot(utility_coefs * 1, p_nodes_var)\n",
    "\n",
    "    model.objective(ObjectiveSense.Maximize, total_utility)\n",
    "    \n",
    "\n",
    "    mosek_params = {'basisRelTolS': 1e-20,\n",
    "                    'basisTolS': 1e-9, \n",
    "                    'intpntCoTolDfeas': 1e-20, \n",
    "                    'intpntCoTolInfeas': 1e-20, \n",
    "                    'intpntCoTolMuRed': 1e-20, \n",
    "                    'intpntCoTolPfeas': 1e-20, 'intpntTolDsafe': 100, 'intpntTolRelStep': 1e-4\n",
    "                    }\n",
    "    for key, val in mosek_params.items():\n",
    "        model.setSolverParam(key, val)\n",
    "    model.setLogHandler(sys.stdout)\n",
    "    model.acceptedSolutionStatus(AccSolutionStatus.Anything)\n",
    "    model.solve()\n",
    "    #print(p_nodes_var.level())\n",
    "    for gen_ind in grid.gen_inds:\n",
    "        print('Gen: ', gen_ind)\n",
    "        other_regions = [r for r in grid.loads_regions if r != [gen_ind]]\n",
    "        pp = p_nodes_var.level()\n",
    "        xx = np.array([pp[r].sum() for r in other_regions])\n",
    "        A, c, r = gen_regressors_dict[gen_ind]\n",
    "        print('From model:', pp[gen_ind])\n",
    "        print('Should be', -((np.dot(A.T, xx) ** 2).sum() + np.dot(c, xx) + r))\n",
    "        print((np.dot(A.T, xx) ** 2).sum())\n"
   ]
  },
  {
   "cell_type": "code",
   "execution_count": 296,
   "id": "amended-attention",
   "metadata": {},
   "outputs": [
    {
     "data": {
      "text/plain": [
       "array([-0., -0., -0., -0., -0., -0., -0.,  0., -0., -0., -0.])"
      ]
     },
     "execution_count": 296,
     "metadata": {},
     "output_type": "execute_result"
    }
   ],
   "source": [
    "pp.round()"
   ]
  },
  {
   "cell_type": "code",
   "execution_count": 293,
   "id": "cooperative-chancellor",
   "metadata": {},
   "outputs": [
    {
     "data": {
      "text/plain": [
       "array([   0.        , 7844.28165125, 7713.24665818, 9176.67183453,\n",
       "       2906.91134853, 5538.25957307, 6661.95609835, 1386.85492149,\n",
       "       6227.79574764, 4791.32481116, 1495.85085022])"
      ]
     },
     "execution_count": 293,
     "metadata": {},
     "output_type": "execute_result"
    }
   ],
   "source": [
    "p_demand_max"
   ]
  },
  {
   "cell_type": "code",
   "execution_count": 159,
   "id": "acquired-inflation",
   "metadata": {},
   "outputs": [],
   "source": [
    "t_max = np.copy(t.level())"
   ]
  },
  {
   "cell_type": "code",
   "execution_count": null,
   "id": "extreme-bacon",
   "metadata": {},
   "outputs": [],
   "source": [
    "9.2033518788e+04 # t = 2000\n",
    "1.0750878342e+05 # t = 10000000"
   ]
  }
 ],
 "metadata": {
  "kernelspec": {
   "display_name": "Python 3",
   "language": "python",
   "name": "python3"
  },
  "language_info": {
   "codemirror_mode": {
    "name": "ipython",
    "version": 3
   },
   "file_extension": ".py",
   "mimetype": "text/x-python",
   "name": "python",
   "nbconvert_exporter": "python",
   "pygments_lexer": "ipython3",
   "version": "3.9.6"
  }
 },
 "nbformat": 4,
 "nbformat_minor": 5
}
