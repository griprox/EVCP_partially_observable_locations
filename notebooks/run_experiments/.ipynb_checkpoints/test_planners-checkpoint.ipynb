{
 "cells": [
  {
   "cell_type": "code",
   "execution_count": 4,
   "id": "responsible-colonial",
   "metadata": {},
   "outputs": [],
   "source": [
    "import os\n",
    "import sys\n",
    "path_to_this_notebook = os.path.abspath('.')\n",
    "path_to_project = path_to_this_notebook[:path_to_this_notebook.find('note')]\n",
    "sys.path.append(path_to_project)\n",
    "\n",
    "from src.utils.save_load_utils import *\n",
    "from src.grid.grid_env import GridEnv\n",
    "from src.planners.exact.exact_planner import ExactPlanner\n",
    "from src.planners.socp_bm.socp_bm_planner import SOCPBMPlanner\n",
    "from src.planners.regressor.regressor_planner import RegressorPlanner\n",
    "from src.utils.measures import *\n",
    "from src.utils.simulate import *\n",
    "import numpy as np\n",
    "\n",
    "\n",
    "def run_planner(planner, env, tee=False, ):\n",
    "    result = simulate(env, planner, tee=tee, )\n",
    "    w = measure_wealth(result, env.scenario, env.grid)\n",
    "    evs_charged = measure_charged_evs(result,  env.scenario, env.grid)\n",
    "    pl_time = result['planning time'].sum()\n",
    "    print(\"Wealth = %.2f\" % w)\n",
    "    print(\"EVs charged = %.2f\" % evs_charged)\n",
    "    print(\"Pl. time = %.2f\" % pl_time)\n",
    "    return result"
   ]
  },
  {
   "cell_type": "code",
   "execution_count": 5,
   "id": "beneficial-language",
   "metadata": {},
   "outputs": [],
   "source": [
    "base_name = 'TSCGrid16L'\n",
    "spec_names = os.listdir(path_to_project + '/experiments/%s/' % base_name)"
   ]
  },
  {
   "cell_type": "code",
   "execution_count": 9,
   "id": "stainless-monitor",
   "metadata": {},
   "outputs": [
    {
     "name": "stdout",
     "output_type": "stream",
     "text": [
      "g=15_p-gen-min=-144000_i-line-max=50\n"
     ]
    }
   ],
   "source": [
    "ptu_int = 60\n",
    "\n",
    "gen_regressors_dict_name = 'gen_regressors_dict_nodes'\n",
    "current_regressors_dict_name = 'current_regressors_dict_nodes'\n",
    "\n",
    "\n",
    "for spec_name in spec_names[-3:]:\n",
    "    print(spec_name)\n",
    "    \n",
    "    path_to_grid = path_to_project + '/experiments/%s/%s/' % (base_name, spec_name)\n",
    "    grid = load_grid(base_name, spec_name, path_to_project)\n",
    "    scenarios, scenario_generator = load_scenarios(base_name, spec_name, path_to_project, ptu_int)\n",
    "    gen_regressors_dict = load_regressors_dict(base_name, spec_name, gen_regressors_dict_name, path_to_project)\n",
    "    current_regressors_dict = load_regressors_dict(base_name, spec_name, \n",
    "                                                   current_regressors_dict_name, path_to_project)\n",
    "    \n",
    "    break\n",
    "    \n",
    "mosek_params = {'basisRelTolS': 1e-12,\n",
    "                'basisTolS': 1e-9, \n",
    "                'intpntCoTolDfeas': 1e-12}\n",
    "\n",
    "planner_reg = RegressorPlanner(gen_regressors_dict, current_regressors_dict, \n",
    "                               use_regions=False, normalize=True, current_tol=1e-7, )\n",
    "\n",
    "planner_exact = ExactPlanner(normalize=False, )\n",
    "planner_exact_norm = ExactPlanner(normalize=True, )\n",
    "\n",
    "planner_socp_full = SOCPBMPlanner(normalize=True, observability='full', **mosek_params)\n",
    "planner_socp_present = SOCPBMPlanner(normalize=True, observability='present', **mosek_params)\n",
    "planner_socp_past = SOCPBMPlanner(normalize=True, observability='past', **mosek_params)\n",
    "planner_socp_blind = SOCPBMPlanner(normalize=True, observability='blind', **mosek_params)\n"
   ]
  },
  {
   "cell_type": "code",
   "execution_count": 10,
   "id": "vocal-costa",
   "metadata": {},
   "outputs": [],
   "source": [
    "scenario = scenario_generator.generate(grid.load_inds, 1, 0, [])[0]\n",
    "env = GridEnv(grid, scenario, scenario_generator)"
   ]
  },
  {
   "cell_type": "code",
   "execution_count": 11,
   "id": "satisfied-unemployment",
   "metadata": {},
   "outputs": [
    {
     "name": "stdout",
     "output_type": "stream",
     "text": [
      "Wealth = 183.97\n",
      "EVs charged = 0.13\n",
      "Pl. time = 8.68\n"
     ]
    }
   ],
   "source": [
    "result_socp = run_planner(planner_socp, env, tee=False)"
   ]
  },
  {
   "cell_type": "code",
   "execution_count": 12,
   "id": "enabling-halloween",
   "metadata": {},
   "outputs": [
    {
     "name": "stdout",
     "output_type": "stream",
     "text": [
      "Wealth = 183.72\n",
      "EVs charged = 0.05\n",
      "Pl. time = 5.67\n"
     ]
    }
   ],
   "source": [
    "result_reg = run_planner(planner_reg, env, tee=False)"
   ]
  },
  {
   "cell_type": "code",
   "execution_count": 13,
   "id": "popular-privilege",
   "metadata": {},
   "outputs": [
    {
     "name": "stdout",
     "output_type": "stream",
     "text": [
      "Wealth = 183.96\n",
      "EVs charged = 0.11\n",
      "Pl. time = 8.61\n"
     ]
    }
   ],
   "source": [
    "result_socp_present = run_planner(planner_socp_present, env, tee=False)"
   ]
  },
  {
   "cell_type": "code",
   "execution_count": 14,
   "id": "arbitrary-technical",
   "metadata": {},
   "outputs": [
    {
     "name": "stdout",
     "output_type": "stream",
     "text": [
      "Wealth = 160.95\n",
      "EVs charged = 0.05\n",
      "Pl. time = 8.50\n"
     ]
    }
   ],
   "source": [
    "result_socp_past = run_planner(planner_socp_past, env, tee=False)"
   ]
  },
  {
   "cell_type": "code",
   "execution_count": 15,
   "id": "finite-australia",
   "metadata": {},
   "outputs": [
    {
     "name": "stdout",
     "output_type": "stream",
     "text": [
      "Wealth = 143.89\n",
      "EVs charged = 0.05\n",
      "Pl. time = 8.41\n"
     ]
    }
   ],
   "source": [
    "result_socp_blind = run_planner(planner_socp_blind, env, tee=False)"
   ]
  },
  {
   "cell_type": "code",
   "execution_count": null,
   "id": "french-stylus",
   "metadata": {},
   "outputs": [],
   "source": []
  },
  {
   "cell_type": "code",
   "execution_count": null,
   "id": "juvenile-narrow",
   "metadata": {},
   "outputs": [],
   "source": []
  },
  {
   "cell_type": "code",
   "execution_count": 34,
   "id": "binary-oxide",
   "metadata": {
    "scrolled": true
   },
   "outputs": [
    {
     "name": "stdout",
     "output_type": "stream",
     "text": [
      "Wealth = 182.83\n",
      "EVs charged = 0.00\n",
      "Pl. time = 8.35\n"
     ]
    }
   ],
   "source": [
    "result_reg = run_planner(planner_reg, env, tee=False)"
   ]
  },
  {
   "cell_type": "code",
   "execution_count": 229,
   "id": "frozen-zimbabwe",
   "metadata": {
    "scrolled": true
   },
   "outputs": [
    {
     "name": "stdout",
     "output_type": "stream",
     "text": [
      "Wealth = 490.53\n",
      "EVs charged = 0.42\n",
      "Pl. time = 12.05\n"
     ]
    }
   ],
   "source": [
    "result_socp_surr = run_planner(planner_socp, env, tee=False, use_surrogate_scenario=True)"
   ]
  },
  {
   "cell_type": "code",
   "execution_count": null,
   "id": "favorite-album",
   "metadata": {},
   "outputs": [],
   "source": []
  },
  {
   "cell_type": "code",
   "execution_count": 70,
   "id": "prescription-smooth",
   "metadata": {},
   "outputs": [
    {
     "name": "stdout",
     "output_type": "stream",
     "text": [
      "Wealth = 531.62\n",
      "EVs charged = 0.38\n",
      "Pl. time = 22.57\n"
     ]
    }
   ],
   "source": [
    "result_exact = run_planner(planner_exact, env, tee=False)"
   ]
  },
  {
   "cell_type": "code",
   "execution_count": null,
   "id": "hearing-creativity",
   "metadata": {},
   "outputs": [],
   "source": []
  },
  {
   "cell_type": "code",
   "execution_count": 45,
   "id": "political-rolling",
   "metadata": {},
   "outputs": [],
   "source": [
    "\n",
    "def simulate(env, planner, max_steps=np.inf, normalize_opf=False, tee=False, \n",
    "             use_surrogate_scenario=False):\n",
    "    env.reset()\n",
    "\n",
    "    n_timesteps = env.timesteps_hr.shape[0]\n",
    "\n",
    "    results_dict = {'planning time': np.empty(n_timesteps),\n",
    "                    'execution time': np.empty(n_timesteps),\n",
    "                    'V_nodes': np.empty((env.grid.n_nodes, n_timesteps)),\n",
    "                    'V_nodes_plan': np.empty((env.grid.n_nodes, n_timesteps)),\n",
    "                    'P_nodes': np.empty((env.grid.n_nodes, n_timesteps)),\n",
    "                    'P_nodes_plan': np.empty((env.grid.n_nodes, n_timesteps)),\n",
    "                    'I_nodes': np.empty((env.grid.n_nodes, n_timesteps)),\n",
    "                    'I_nodes_plan': np.empty((env.grid.n_nodes, n_timesteps)),\n",
    "                    'I_lines': np.empty((env.grid.n_lines, n_timesteps)),\n",
    "                    'I_lines_plan': np.empty((env.grid.n_lines, n_timesteps)),\n",
    "                    'SOC_evs': np.empty((len(env.scenario.evs), n_timesteps))}\n",
    "\n",
    "    while not env.finished and env.t_ind < max_steps:\n",
    "        if tee:\n",
    "            print('Step ', env.t_ind)\n",
    "        # Normalize soc (possible numerical issues otherwise)\n",
    "        SOC_evs_current = np.minimum([ev.soc_max for ev in env.scenario.evs],\n",
    "                                     np.maximum(0, env.SOC_evs[:, env.t_ind]))\n",
    "        if use_surrogate_scenario:\n",
    "            observed_scenario = generate_scenario_regions_shuffle(grid, scenario, env.t_ind * 0)\n",
    "        else:\n",
    "            observed_scenario = env.observe_scenario(planner.oracle)\n",
    "        plan = planner.step(env.grid, observed_scenario, env.t_ind, SOC_evs_current)\n",
    "\n",
    "        for key in ['V_nodes', 'I_lines', 'P_nodes', 'I_nodes']:\n",
    "            results_dict[key + '_plan'][:, env.t_ind] = plan[key][:, env.t_ind]\n",
    "\n",
    "        time_start_execution = time.time()\n",
    "        utility_coefs = env.get_cost_coefs()\n",
    "\n",
    "        p_lb, p_ub = np.zeros((2, env.grid.n_nodes,))\n",
    "        p_lb[env.grid.gen_inds] = -1e10\n",
    "        p_lb[env.grid.load_inds] = 0\n",
    "        p_ub[env.grid.load_inds] = np.copy(plan['P_nodes'][env.grid.load_inds, env.t_ind])\n",
    "        p_ub[p_ub < p_lb] = p_lb[p_ub < p_lb]\n",
    "        if -1e-6 <= p_ub[env.grid.load_inds].max() < 1e-6:\n",
    "            p_ub[env.grid.load_inds] = np.zeros_like(p_ub[env.grid.load_inds])\n",
    "\n",
    "        env.step(p_lb, p_ub, utility_coefs, normalize_opf=normalize_opf)\n",
    "        execution_time = time.time() - time_start_execution\n",
    "\n",
    "        results_dict['planning time'][env.t_ind - 1] = plan['planning time']\n",
    "        results_dict['execution time'][env.t_ind - 1] = execution_time\n",
    "        results_dict['V_nodes'][:, env.t_ind - 1] = env.V_nodes[:, env.t_ind - 1]\n",
    "        results_dict['P_nodes'][:, env.t_ind - 1] = env.P_nodes[:, env.t_ind - 1]\n",
    "        results_dict['I_nodes'][:, env.t_ind - 1] = env.I_nodes[:, env.t_ind - 1]\n",
    "        results_dict['I_lines'][:, env.t_ind - 1] = env.I_lines[:, env.t_ind - 1]\n",
    "        results_dict['SOC_evs'][:, env.t_ind - 1] = env.SOC_evs[:, env.t_ind - 1]\n",
    "\n",
    "    return results_dict"
   ]
  },
  {
   "cell_type": "code",
   "execution_count": 42,
   "id": "ultimate-format",
   "metadata": {
    "scrolled": true
   },
   "outputs": [],
   "source": [
    "\n",
    "\n",
    "from src.scenarios.scenario import Scenario\n",
    "from src.grid.electrical_vehicle import EV\n",
    "from collections import defaultdict\n",
    "\n",
    "\n",
    "def generate_scenario_regions_shuffle(grid, scenario, t_current_ind):\n",
    "\n",
    "    load_inds = grid.load_inds\n",
    "    timesteps_hr = scenario.timesteps_hr\n",
    "    evs = []\n",
    "    power_price = scenario.power_price\n",
    "\n",
    "    load_ind_business = {load_ind: np.zeros(len(timesteps_hr)) for load_ind in load_inds}\n",
    "\n",
    "    for t_ind, t_hr in enumerate(timesteps_hr):\n",
    "        evs_arrive_at_t = scenario.t_ind_arrivals[t_ind]\n",
    "        for ev in evs_arrive_at_t:\n",
    "            load_ind = ev.load_ind\n",
    "            reg_ind = np.where([load_ind in reg for reg in grid.loads_regions])[0][0]\n",
    "            reg = grid.loads_regions[reg_ind]\n",
    "            reg_loads_free = [rl_ind for rl_ind in reg if load_ind_business[rl_ind][t_ind] == 0]\n",
    "            if t_ind > t_current_ind:\n",
    "                new_load_ind = np.random.choice(reg_loads_free)\n",
    "            else:\n",
    "                new_load_ind = load_ind\n",
    "            assert new_load_ind in reg_loads_free, 'Load ind not free'\n",
    "            ev_new =  EV(new_load_ind, ev.soc_arr, ev.soc_goal, ev.soc_max,\n",
    "                         ev.t_arr_hr, ev.t_dep_hr, ev.utility_coef)\n",
    "            evs.append(ev_new)\n",
    "            load_ind_business[new_load_ind][np.where(timesteps_hr == ev.t_arr_hr)[0][0]: \n",
    "                                            np.where(timesteps_hr == ev.t_dep_hr)[0][0]] = 1\n",
    "            \n",
    "    scenario = Scenario(load_inds, timesteps_hr, evs, power_price)\n",
    "    return scenario\n",
    "\n",
    "\n",
    "def generate_surrogate_grid_parallel_cables(grid):\n",
    "    \n",
    "    nodes = grid.nodes\n",
    "    lines = []\n",
    "\n",
    "    for reg in grid.loads_regions:\n",
    "        if len(reg) == 1 and nodes[reg[0]].type == 'gen':\n",
    "            gen = nodes[reg[0]]\n",
    "            for line in grid.node_to_lines_dict[reg[0]]:\n",
    "                node_other = line.node_to if line.node_to != gen else line.node_from\n",
    "                if node_other.type == 'gen':\n",
    "                    lines.append(line)\n",
    "        else:\n",
    "            path_from_gen_to_node = compute_paths_from_gens_to_nodes(grid, reg)\n",
    "            for gen in path_from_gen_to_node:\n",
    "                for node_to, path in path_from_gen_to_node[gen].items():\n",
    "                    if len(path):\n",
    "                        new_line = make_line_from_path(gen, node_to, path)\n",
    "                        lines.append(new_line)\n",
    "\n",
    "    grid_surrogate = Grid(grid.name + '_surrogate',\n",
    "                          grid.nodes, lines, grid.ref_index, \n",
    "                          grid.ref_voltage, grid.con_groups, \n",
    "                          grid.loads_regions)\n",
    "    return grid_surrogate\n",
    "\n",
    "def compute_paths_from_gens_to_nodes(grid, reg):\n",
    "    nodes_in_reg = [nodes[node_ind] for node_ind in reg]\n",
    "    gens_connected_to_reg = set()\n",
    "\n",
    "    \n",
    "    connected_nodes_dict = defaultdict(lambda: defaultdict(list))\n",
    "    for line in grid.lines:\n",
    "        node_from, node_to = line.node_from, line.node_to\n",
    "        connected_nodes_dict[node_from][node_to].append(line)\n",
    "        connected_nodes_dict[node_to][node_from].append(line)\n",
    "        \n",
    "    for node in nodes_in_reg:\n",
    "        for node_con in connected_nodes_dict[node]:\n",
    "            if node_con.type == 'gen':\n",
    "                gens_connected_to_reg.add(node_con)\n",
    "    gens_connected_to_reg = list(gens_connected_to_reg)\n",
    "    path_from_gen_to_node = defaultdict(dict)\n",
    "\n",
    "\n",
    "    for gen in gens_connected_to_reg:\n",
    "        path_from_gen_to_node[gen][gen] = []\n",
    "\n",
    "\n",
    "        lines_to_go = [line for node in connected_nodes_dict[gen] for line in connected_nodes_dict[gen][node]  \n",
    "                       if node in nodes_in_reg]\n",
    "\n",
    "        parrents = [gen]\n",
    "        checked_lines = set()\n",
    "\n",
    "\n",
    "        while len(parrents):\n",
    "            new_parrents = []\n",
    "            for parrent in parrents:\n",
    "                lines_to_go = [line for node in connected_nodes_dict[parrent] \n",
    "                               for line in connected_nodes_dict[parrent][node] \n",
    "                               if node in nodes_in_reg and line not in checked_lines]\n",
    "                #print('Parrent: ', parrent, '\\n',\n",
    "                #      'Lines to go: ', [(l.node_from, '->', l.node_to) for l in lines_to_go])\n",
    "\n",
    "                for line in lines_to_go:\n",
    "                    child =  line.node_to if line.node_to != parrent else line.node_from               \n",
    "                    path_to_child = path_from_gen_to_node[gen][parrent] + [line]\n",
    "                    path_from_gen_to_node[gen][child] = path_to_child\n",
    "                    new_parrents.append(child)\n",
    "                    checked_lines.add(line)\n",
    "            parrents = new_parrents\n",
    "            \n",
    "    return path_from_gen_to_node\n",
    "\n",
    "def make_line_from_path(node_from, node_to, path):\n",
    "    i_max = np.inf\n",
    "    list_of_rs = []\n",
    "    for line in path:\n",
    "        i_max = np.minimum(line.i_max, i_max)\n",
    "        list_of_rs.append(1 / line.g)\n",
    "    g = 1 / sum(list_of_rs)\n",
    "    return Line(node_from, node_to, i_max, g)"
   ]
  },
  {
   "cell_type": "code",
   "execution_count": null,
   "id": "swedish-violence",
   "metadata": {},
   "outputs": [],
   "source": []
  }
 ],
 "metadata": {
  "kernelspec": {
   "display_name": "Python 3",
   "language": "python",
   "name": "python3"
  },
  "language_info": {
   "codemirror_mode": {
    "name": "ipython",
    "version": 3
   },
   "file_extension": ".py",
   "mimetype": "text/x-python",
   "name": "python",
   "nbconvert_exporter": "python",
   "pygments_lexer": "ipython3",
   "version": "3.9.6"
  }
 },
 "nbformat": 4,
 "nbformat_minor": 5
}
